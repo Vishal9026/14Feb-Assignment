{
 "cells": [
  {
   "cell_type": "code",
   "execution_count": 1,
   "id": "47b1e52b-a459-4a12-af9e-b87ef731a3ad",
   "metadata": {},
   "outputs": [],
   "source": [
    "# ANSWER-1)Multithreading in Python refers to the ability to run multiple threads or processes simultaneously within a single process. Each thread is a separate flow of execution, with its own logic. Multithreading is used to improve the performance of a program by making better use of the available CPU resources.\n",
    "# Python has a built-in threading module that provides a higher-level interface for creating\n",
    "# and managing threads. This module allows you to create and start new threads, manage\n",
    "# their life cycle, and share data between them.\n"
   ]
  },
  {
   "cell_type": "code",
   "execution_count": 2,
   "id": "578f9a42-f153-4ba0-8497-c707da099f1d",
   "metadata": {},
   "outputs": [],
   "source": [
    "# ANSWER-2)The threading module in Python is used to create and manage threads. It provides a higher-level interface to work with threads as compared to the low-level thread module.\n",
    "# Use of following functions:\n",
    "# threading.activeCount() − Returns the number of thread objects that are active.\n",
    "# threading.currentThread() − Returns the number of thread objects in the caller's thread control.\n",
    "# threading.enumerate() − Returns a list of all thread objects that are currently active."
   ]
  },
  {
   "cell_type": "code",
   "execution_count": 3,
   "id": "7ba441a5-dd22-4d71-9b4b-0ceccfbb5905",
   "metadata": {},
   "outputs": [],
   "source": [
    "# ANSWER-3)run()  − The run() method is the entry point for a thread.\n",
    "# start()  − The start() method starts a thread by calling the run method.\n",
    "# join([time])  − The join() waits for threads to terminate.\n",
    "# isAlive()  − The isAlive() method checks whether a thread is still executing."
   ]
  },
  {
   "cell_type": "code",
   "execution_count": 52,
   "id": "bd08512c-5ab0-4d59-bb6c-a600968082e0",
   "metadata": {},
   "outputs": [
    {
     "name": "stdout",
     "output_type": "stream",
     "text": [
      "1\n",
      "4\n",
      "9\n",
      "16\n",
      "25\n",
      "36\n",
      "49\n",
      "64\n",
      "81\n",
      "100\n",
      "1\n",
      "8\n",
      "27\n",
      "64\n",
      "125\n",
      "216\n",
      "343\n",
      "512\n",
      "729\n",
      "1000\n"
     ]
    }
   ],
   "source": [
    "# ANSWER-4)import threading\n",
    "def print_squares():\n",
    "    for i in range(1, 11):\n",
    "        print(i**2)\n",
    "def print_cubes():\n",
    "    for i in range(1, 11):\n",
    "        print(i**3)\n",
    "t1 = threading.Thread(target=print_squares)\n",
    "t2 = threading.Thread(target=print_cubes)\n",
    "t1.start()\n",
    "t2.start()\n",
    "t1.join()\n",
    "t2.join()\n"
   ]
  },
  {
   "cell_type": "code",
   "execution_count": 53,
   "id": "8ae58de9-a1dd-4420-8648-0be416895685",
   "metadata": {},
   "outputs": [
    {
     "data": {
      "text/plain": [
       "'Advantages of\\nmultithreading: Improved performance: Multithreading allows you to perform multiple\\ntasks simultaneously, which can improve the overall performance of your application.\\nResponsiveness: Multithreading can make your application more responsive to user\\ninteractions, by allowing it to continue to process user input while performing other tasks\\nin the background.\\nDisadvantages of multithreading: Synchronization: When multiple threads access shared\\nresources concurrently, it can lead to synchronization issues, such as race conditions and\\ndeadlocks, which can be difficult to debug and resolve.\\nOverhead: Creating and managing multiple threads can incur additional overhead and\\nincrease the memory footprint of your application, which can be a concern in resourceconstrained environments.'"
      ]
     },
     "execution_count": 53,
     "metadata": {},
     "output_type": "execute_result"
    }
   ],
   "source": [
    "# ANSWER-5)\n",
    "'''Advantages of\n",
    "multithreading: Improved performance: Multithreading allows you to perform multiple\n",
    "tasks simultaneously, which can improve the overall performance of your application.\n",
    "Responsiveness: Multithreading can make your application more responsive to user\n",
    "interactions, by allowing it to continue to process user input while performing other tasks\n",
    "in the background.\n",
    "Disadvantages of multithreading: Synchronization: When multiple threads access shared\n",
    "resources concurrently, it can lead to synchronization issues, such as race conditions and\n",
    "deadlocks, which can be difficult to debug and resolve.\n",
    "Overhead: Creating and managing multiple threads can incur additional overhead and\n",
    "increase the memory footprint of your application, which can be a concern in resourceconstrained environments.'''"
   ]
  },
  {
   "cell_type": "code",
   "execution_count": null,
   "id": "2a0f6807-5c1c-428f-be87-92df61b8f262",
   "metadata": {},
   "outputs": [],
   "source": [
    "# ANSWER-6)Deadlocks: A situation where two or more threads are blocked, each waiting for the other to release a resource, causing the entire application to hang.\n",
    "#Race conditions: A situation where two or more threads access a shared resource concurrently, leading to unpredictable or incorrect behavior, such as inconsistent data or\n",
    "# program crashes. "
   ]
  }
 ],
 "metadata": {
  "kernelspec": {
   "display_name": "Python 3 (ipykernel)",
   "language": "python",
   "name": "python3"
  },
  "language_info": {
   "codemirror_mode": {
    "name": "ipython",
    "version": 3
   },
   "file_extension": ".py",
   "mimetype": "text/x-python",
   "name": "python",
   "nbconvert_exporter": "python",
   "pygments_lexer": "ipython3",
   "version": "3.10.8"
  }
 },
 "nbformat": 4,
 "nbformat_minor": 5
}
